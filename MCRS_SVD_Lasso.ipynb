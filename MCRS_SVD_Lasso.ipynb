{
 "cells": [
  {
   "cell_type": "code",
   "execution_count": 1,
   "metadata": {},
   "outputs": [],
   "source": [
    "import numpy as np\n",
    "import pandas as pd\n",
    "from sklearn.metrics.pairwise import cosine_similarity\n",
    "from sklearn.metrics import mean_squared_error\n",
    "from surprise import Reader, Dataset, KNNBasic\n",
    "from surprise.model_selection import cross_validate\n",
    "from surprise import SVD, SVDpp\n",
    "from sklearn.preprocessing import MinMaxScaler"
   ]
  },
  {
   "cell_type": "code",
   "execution_count": 2,
   "metadata": {},
   "outputs": [],
   "source": [
    "import warnings\n",
    "def ignore_warn(*args, **kwargs):\n",
    "    pass\n",
    "warnings.warn = ignore_warn"
   ]
  },
  {
   "cell_type": "code",
   "execution_count": 83,
   "metadata": {},
   "outputs": [
    {
     "data": {
      "text/html": [
       "<div>\n",
       "<style scoped>\n",
       "    .dataframe tbody tr th:only-of-type {\n",
       "        vertical-align: middle;\n",
       "    }\n",
       "\n",
       "    .dataframe tbody tr th {\n",
       "        vertical-align: top;\n",
       "    }\n",
       "\n",
       "    .dataframe thead th {\n",
       "        text-align: right;\n",
       "    }\n",
       "</style>\n",
       "<table border=\"1\" class=\"dataframe\">\n",
       "  <thead>\n",
       "    <tr style=\"text-align: right;\">\n",
       "      <th></th>\n",
       "      <th>user_id</th>\n",
       "      <th>criterion1</th>\n",
       "      <th>criterion2</th>\n",
       "      <th>criterion3</th>\n",
       "      <th>criterion4</th>\n",
       "      <th>overall</th>\n",
       "      <th>movie_id</th>\n",
       "      <th>number</th>\n",
       "    </tr>\n",
       "  </thead>\n",
       "  <tbody>\n",
       "    <tr>\n",
       "      <th>0</th>\n",
       "      <td>1</td>\n",
       "      <td>6</td>\n",
       "      <td>6</td>\n",
       "      <td>8</td>\n",
       "      <td>12</td>\n",
       "      <td>8</td>\n",
       "      <td>2</td>\n",
       "      <td>1</td>\n",
       "    </tr>\n",
       "    <tr>\n",
       "      <th>1</th>\n",
       "      <td>1</td>\n",
       "      <td>9</td>\n",
       "      <td>11</td>\n",
       "      <td>10</td>\n",
       "      <td>9</td>\n",
       "      <td>10</td>\n",
       "      <td>26</td>\n",
       "      <td>2</td>\n",
       "    </tr>\n",
       "    <tr>\n",
       "      <th>2</th>\n",
       "      <td>1</td>\n",
       "      <td>6</td>\n",
       "      <td>10</td>\n",
       "      <td>9</td>\n",
       "      <td>8</td>\n",
       "      <td>7</td>\n",
       "      <td>61</td>\n",
       "      <td>3</td>\n",
       "    </tr>\n",
       "    <tr>\n",
       "      <th>3</th>\n",
       "      <td>1</td>\n",
       "      <td>6</td>\n",
       "      <td>6</td>\n",
       "      <td>6</td>\n",
       "      <td>5</td>\n",
       "      <td>5</td>\n",
       "      <td>86</td>\n",
       "      <td>4</td>\n",
       "    </tr>\n",
       "    <tr>\n",
       "      <th>4</th>\n",
       "      <td>1</td>\n",
       "      <td>10</td>\n",
       "      <td>11</td>\n",
       "      <td>10</td>\n",
       "      <td>9</td>\n",
       "      <td>10</td>\n",
       "      <td>132</td>\n",
       "      <td>5</td>\n",
       "    </tr>\n",
       "  </tbody>\n",
       "</table>\n",
       "</div>"
      ],
      "text/plain": [
       "   user_id  criterion1  criterion2  criterion3  criterion4  overall  movie_id  \\\n",
       "0        1           6           6           8          12        8         2   \n",
       "1        1           9          11          10           9       10        26   \n",
       "2        1           6          10           9           8        7        61   \n",
       "3        1           6           6           6           5        5        86   \n",
       "4        1          10          11          10           9       10       132   \n",
       "\n",
       "   number  \n",
       "0       1  \n",
       "1       2  \n",
       "2       3  \n",
       "3       4  \n",
       "4       5  "
      ]
     },
     "execution_count": 83,
     "metadata": {},
     "output_type": "execute_result"
    }
   ],
   "source": [
    "colNames = ['user_id','criterion1', 'criterion2', 'criterion3', 'criterion4', 'overall', 'movie_id', 'number']\n",
    "data_full = pd.read_csv(\"E:/Research Project/data_movies.txt\", sep =\"\\t\",header= None , names= colNames )\n",
    "data_full.head()"
   ]
  },
  {
   "cell_type": "code",
   "execution_count": 84,
   "metadata": {},
   "outputs": [
    {
     "data": {
      "text/plain": [
       "(62156, 8)"
      ]
     },
     "execution_count": 84,
     "metadata": {},
     "output_type": "execute_result"
    }
   ],
   "source": [
    "data_full.shape"
   ]
  },
  {
   "cell_type": "code",
   "execution_count": 5,
   "metadata": {},
   "outputs": [
    {
     "name": "stdout",
     "output_type": "stream",
     "text": [
      "The data has  976  uniques id and 6078 unique users\n"
     ]
    }
   ],
   "source": [
    "print( \"The data has \", len(data_full.movie_id.unique()), \" uniques id and\", len(data_full.user_id.unique()),\"unique users\")"
   ]
  },
  {
   "cell_type": "code",
   "execution_count": 85,
   "metadata": {},
   "outputs": [
    {
     "name": "stdout",
     "output_type": "stream",
     "text": [
      "(20512, 6) (41644, 6)\n"
     ]
    }
   ],
   "source": [
    "X = data_full[['user_id','criterion1', 'criterion2', 'criterion3', 'criterion4', 'movie_id']]\n",
    "y = data_full['overall']\n",
    "from sklearn.model_selection import train_test_split\n",
    "full_train, full_test, y_train, y_test = train_test_split(X, y, test_size=0.33, random_state=42)\n",
    "print(full_test.shape, full_train.shape)"
   ]
  },
  {
   "cell_type": "code",
   "execution_count": 7,
   "metadata": {},
   "outputs": [
    {
     "data": {
      "text/plain": [
       "(62156, 8)"
      ]
     },
     "execution_count": 7,
     "metadata": {},
     "output_type": "execute_result"
    }
   ],
   "source": [
    "data_full.shape"
   ]
  },
  {
   "cell_type": "code",
   "execution_count": 26,
   "metadata": {},
   "outputs": [
    {
     "name": "stdout",
     "output_type": "stream",
     "text": [
      "df1 criterion1\n",
      "df2 criterion2\n",
      "df3 criterion3\n",
      "df4 criterion4\n"
     ]
    }
   ],
   "source": [
    "# creting a list of individual criteria values\n",
    "list_of_criteria_train = {}\n",
    "list_of_criteria_test = {}\n",
    "dfs = ('df1', 'df2', 'df3', 'df4')\n",
    "criterion = ('criterion1', 'criterion2', 'criterion3', 'criterion4')\n",
    "for df, ctn in zip(dfs, criterion):\n",
    "    print(df, ctn)\n",
    "    full_dataset_train = full_train[['user_id',\"movie_id\",ctn]]\n",
    "    list_of_criteria_train[df] = full_dataset_train\n",
    "    full_dataset_test = full_test[['user_id',\"movie_id\",ctn]]\n",
    "    list_of_criteria_test[df] = full_dataset_test"
   ]
  },
  {
   "cell_type": "code",
   "execution_count": 31,
   "metadata": {},
   "outputs": [
    {
     "name": "stdout",
     "output_type": "stream",
     "text": [
      "train (41644, 3) (41644, 3) (41644, 3) (41644, 3)\n",
      "test (20512, 3) (20512, 3) (20512, 3) (20512, 3)\n"
     ]
    }
   ],
   "source": [
    "print(\"train\",list_of_criteria_train['df1'].shape, list_of_criteria_train['df2'].shape,\n",
    "      list_of_criteria_train['df4'].shape, list_of_criteria_train['df3'].shape)\n",
    "print(\"test\",list_of_criteria_test['df1'].shape, list_of_criteria_test['df2'].shape,\n",
    "      list_of_criteria_test['df4'].shape, list_of_criteria_test['df3'].shape)"
   ]
  },
  {
   "cell_type": "markdown",
   "metadata": {},
   "source": [
    "## Individual criteria SVD predictions"
   ]
  },
  {
   "cell_type": "code",
   "execution_count": 58,
   "metadata": {},
   "outputs": [],
   "source": [
    "def compute_svd_predictions(criteria_data_train, criteria_data_test):\n",
    "    reader = Reader()\n",
    "#dataset creation\n",
    "    criteria_data_train.columns =[\"userId\", \"movieId\", \"rating\"]\n",
    "    criteria_data_test.columns =[\"userId\", \"movieId\", \"rating\"]\n",
    "    \n",
    "    # scaling to a scale of 5 \n",
    "    min_max_scaler = MinMaxScaler()\n",
    "    \n",
    "    rate = criteria_data_train[['rating']].values.astype(float)\n",
    "    rate_scaled = min_max_scaler.fit_transform(rate)\n",
    "    criteria_data_train[['rating']]=rate_scaled*5\n",
    "    \n",
    "    rate = criteria_data_test[['rating']].values.astype(float)\n",
    "    rate_scaled = min_max_scaler.fit_transform(rate)\n",
    "    criteria_data_test[['rating']]=rate_scaled*5\n",
    "    \n",
    "    reader = Reader()\n",
    "    svd = SVD()\n",
    "        \n",
    "    train_data = Dataset.load_from_df(criteria_data_train, reader)\n",
    "    fullTrainSet = train_data.build_full_trainset()\n",
    "    \n",
    "    test_data = Dataset.load_from_df(criteria_data_test, reader)\n",
    "    training_data, testing_data = train_test_split(test_data, test_size=1.0)\n",
    "    \n",
    "    #     print(type(training_data))\n",
    "    svd.fit(fullTrainSet)\n",
    "    pred = svd.test(testing_data)\n",
    "    pdf = pd.DataFrame(pred)\n",
    "#     pred_data = pdf[['uid',\"iid\",\"est\"]]\n",
    "#     pd.merge(predicted_data, pred_data)\n",
    "    \n",
    "    return pdf"
   ]
  },
  {
   "cell_type": "code",
   "execution_count": 63,
   "metadata": {},
   "outputs": [
    {
     "name": "stdout",
     "output_type": "stream",
     "text": [
      "(20512, 2)\n"
     ]
    },
    {
     "data": {
      "text/html": [
       "<div>\n",
       "<style scoped>\n",
       "    .dataframe tbody tr th:only-of-type {\n",
       "        vertical-align: middle;\n",
       "    }\n",
       "\n",
       "    .dataframe tbody tr th {\n",
       "        vertical-align: top;\n",
       "    }\n",
       "\n",
       "    .dataframe thead th {\n",
       "        text-align: right;\n",
       "    }\n",
       "</style>\n",
       "<table border=\"1\" class=\"dataframe\">\n",
       "  <thead>\n",
       "    <tr style=\"text-align: right;\">\n",
       "      <th></th>\n",
       "      <th>userId</th>\n",
       "      <th>movieId</th>\n",
       "    </tr>\n",
       "  </thead>\n",
       "  <tbody>\n",
       "    <tr>\n",
       "      <th>33907</th>\n",
       "      <td>3277</td>\n",
       "      <td>832</td>\n",
       "    </tr>\n",
       "    <tr>\n",
       "      <th>25858</th>\n",
       "      <td>2512</td>\n",
       "      <td>13</td>\n",
       "    </tr>\n",
       "    <tr>\n",
       "      <th>61694</th>\n",
       "      <td>6036</td>\n",
       "      <td>899</td>\n",
       "    </tr>\n",
       "    <tr>\n",
       "      <th>1554</th>\n",
       "      <td>146</td>\n",
       "      <td>722</td>\n",
       "    </tr>\n",
       "    <tr>\n",
       "      <th>11072</th>\n",
       "      <td>1093</td>\n",
       "      <td>968</td>\n",
       "    </tr>\n",
       "  </tbody>\n",
       "</table>\n",
       "</div>"
      ],
      "text/plain": [
       "       userId  movieId\n",
       "33907    3277      832\n",
       "25858    2512       13\n",
       "61694    6036      899\n",
       "1554      146      722\n",
       "11072    1093      968"
      ]
     },
     "execution_count": 63,
     "metadata": {},
     "output_type": "execute_result"
    }
   ],
   "source": [
    "predicted_dataset = list_of_criteria_test['df1'][[\"userId\",\"movieId\"]]\n",
    "# new_dataset = new_dataset.set_index(['userId','movieId'])\n",
    "print(predicted_dataset.shape)\n",
    "predicted_dataset.head()"
   ]
  },
  {
   "cell_type": "markdown",
   "metadata": {},
   "source": [
    "##  Creating new dataset based on ealuated multiple criteria"
   ]
  },
  {
   "cell_type": "code",
   "execution_count": 55,
   "metadata": {},
   "outputs": [],
   "source": [
    "# new_full_data = full_train\n",
    "# new_full_data=new_full_data[[\"user_id\", \"movie_id\", \"criterion1\", \"criterion2\", \"criterion3\", \"criterion4\"]]\n",
    "# new_full_data.columns =[\"userId\", \"movieId\", \"df1\", \"df2\", \"df3\", \"df4\"]\n",
    "# new_full_data.head()"
   ]
  },
  {
   "cell_type": "code",
   "execution_count": 56,
   "metadata": {},
   "outputs": [],
   "source": [
    "# new_full_data.shape"
   ]
  },
  {
   "cell_type": "code",
   "execution_count": 65,
   "metadata": {},
   "outputs": [
    {
     "name": "stdout",
     "output_type": "stream",
     "text": [
      "df1\n",
      "(20512, 1)\n",
      "df2\n",
      "(20512, 1)\n",
      "df3\n",
      "(20512, 1)\n",
      "df4\n",
      "(20512, 1)\n",
      "(20512, 6)\n"
     ]
    }
   ],
   "source": [
    "from surprise.model_selection import train_test_split\n",
    "import random\n",
    "random.seed(108)\n",
    "for key in list_of_criteria_train.keys():\n",
    "    print(key)\n",
    "    pred_data = compute_svd_predictions(list_of_criteria_train[key],list_of_criteria_test[key])\n",
    "    pred_data.columns =[\"userId\", \"movieId\", \"Orating\", key,\"details\"]\n",
    "    new_data = pred_data.drop(columns=[\"Orating\",\"details\"])\n",
    "    new_data = new_data.set_index(['userId','movieId'])\n",
    "    print(new_data.shape)\n",
    "#     print(new_data.head())\n",
    "    predicted_dataset = new_data.combine_first(predicted_dataset.set_index(['userId','movieId'])).reset_index()\n",
    "print(predicted_dataset.shape)"
   ]
  },
  {
   "cell_type": "code",
   "execution_count": 66,
   "metadata": {},
   "outputs": [
    {
     "data": {
      "text/html": [
       "<div>\n",
       "<style scoped>\n",
       "    .dataframe tbody tr th:only-of-type {\n",
       "        vertical-align: middle;\n",
       "    }\n",
       "\n",
       "    .dataframe tbody tr th {\n",
       "        vertical-align: top;\n",
       "    }\n",
       "\n",
       "    .dataframe thead th {\n",
       "        text-align: right;\n",
       "    }\n",
       "</style>\n",
       "<table border=\"1\" class=\"dataframe\">\n",
       "  <thead>\n",
       "    <tr style=\"text-align: right;\">\n",
       "      <th></th>\n",
       "      <th>userId</th>\n",
       "      <th>movieId</th>\n",
       "      <th>df1</th>\n",
       "      <th>df2</th>\n",
       "      <th>df3</th>\n",
       "      <th>df4</th>\n",
       "    </tr>\n",
       "  </thead>\n",
       "  <tbody>\n",
       "    <tr>\n",
       "      <th>0</th>\n",
       "      <td>1</td>\n",
       "      <td>26</td>\n",
       "      <td>4.169332</td>\n",
       "      <td>4.050744</td>\n",
       "      <td>3.828402</td>\n",
       "      <td>3.599499</td>\n",
       "    </tr>\n",
       "    <tr>\n",
       "      <th>1</th>\n",
       "      <td>1</td>\n",
       "      <td>86</td>\n",
       "      <td>2.716256</td>\n",
       "      <td>3.596563</td>\n",
       "      <td>2.796181</td>\n",
       "      <td>3.272879</td>\n",
       "    </tr>\n",
       "    <tr>\n",
       "      <th>2</th>\n",
       "      <td>1</td>\n",
       "      <td>132</td>\n",
       "      <td>3.602458</td>\n",
       "      <td>3.555491</td>\n",
       "      <td>2.993421</td>\n",
       "      <td>3.266680</td>\n",
       "    </tr>\n",
       "    <tr>\n",
       "      <th>3</th>\n",
       "      <td>1</td>\n",
       "      <td>180</td>\n",
       "      <td>3.661907</td>\n",
       "      <td>4.010367</td>\n",
       "      <td>4.188141</td>\n",
       "      <td>4.423180</td>\n",
       "    </tr>\n",
       "    <tr>\n",
       "      <th>4</th>\n",
       "      <td>1</td>\n",
       "      <td>191</td>\n",
       "      <td>3.897889</td>\n",
       "      <td>3.537554</td>\n",
       "      <td>3.450182</td>\n",
       "      <td>3.420344</td>\n",
       "    </tr>\n",
       "  </tbody>\n",
       "</table>\n",
       "</div>"
      ],
      "text/plain": [
       "   userId  movieId       df1       df2       df3       df4\n",
       "0       1       26  4.169332  4.050744  3.828402  3.599499\n",
       "1       1       86  2.716256  3.596563  2.796181  3.272879\n",
       "2       1      132  3.602458  3.555491  2.993421  3.266680\n",
       "3       1      180  3.661907  4.010367  4.188141  4.423180\n",
       "4       1      191  3.897889  3.537554  3.450182  3.420344"
      ]
     },
     "execution_count": 66,
     "metadata": {},
     "output_type": "execute_result"
    }
   ],
   "source": [
    "predicted_dataset.head()"
   ]
  },
  {
   "cell_type": "code",
   "execution_count": 67,
   "metadata": {},
   "outputs": [
    {
     "data": {
      "text/html": [
       "<div>\n",
       "<style scoped>\n",
       "    .dataframe tbody tr th:only-of-type {\n",
       "        vertical-align: middle;\n",
       "    }\n",
       "\n",
       "    .dataframe tbody tr th {\n",
       "        vertical-align: top;\n",
       "    }\n",
       "\n",
       "    .dataframe thead th {\n",
       "        text-align: right;\n",
       "    }\n",
       "</style>\n",
       "<table border=\"1\" class=\"dataframe\">\n",
       "  <thead>\n",
       "    <tr style=\"text-align: right;\">\n",
       "      <th></th>\n",
       "      <th>user_id</th>\n",
       "      <th>criterion1</th>\n",
       "      <th>criterion2</th>\n",
       "      <th>criterion3</th>\n",
       "      <th>criterion4</th>\n",
       "      <th>movie_id</th>\n",
       "    </tr>\n",
       "  </thead>\n",
       "  <tbody>\n",
       "    <tr>\n",
       "      <th>33907</th>\n",
       "      <td>3277</td>\n",
       "      <td>13</td>\n",
       "      <td>12</td>\n",
       "      <td>10</td>\n",
       "      <td>9</td>\n",
       "      <td>832</td>\n",
       "    </tr>\n",
       "    <tr>\n",
       "      <th>25858</th>\n",
       "      <td>2512</td>\n",
       "      <td>6</td>\n",
       "      <td>7</td>\n",
       "      <td>7</td>\n",
       "      <td>7</td>\n",
       "      <td>13</td>\n",
       "    </tr>\n",
       "    <tr>\n",
       "      <th>61694</th>\n",
       "      <td>6036</td>\n",
       "      <td>13</td>\n",
       "      <td>13</td>\n",
       "      <td>13</td>\n",
       "      <td>13</td>\n",
       "      <td>899</td>\n",
       "    </tr>\n",
       "    <tr>\n",
       "      <th>1554</th>\n",
       "      <td>146</td>\n",
       "      <td>7</td>\n",
       "      <td>5</td>\n",
       "      <td>2</td>\n",
       "      <td>2</td>\n",
       "      <td>722</td>\n",
       "    </tr>\n",
       "    <tr>\n",
       "      <th>11072</th>\n",
       "      <td>1093</td>\n",
       "      <td>9</td>\n",
       "      <td>9</td>\n",
       "      <td>10</td>\n",
       "      <td>9</td>\n",
       "      <td>968</td>\n",
       "    </tr>\n",
       "  </tbody>\n",
       "</table>\n",
       "</div>"
      ],
      "text/plain": [
       "       user_id  criterion1  criterion2  criterion3  criterion4  movie_id\n",
       "33907     3277          13          12          10           9       832\n",
       "25858     2512           6           7           7           7        13\n",
       "61694     6036          13          13          13          13       899\n",
       "1554       146           7           5           2           2       722\n",
       "11072     1093           9           9          10           9       968"
      ]
     },
     "execution_count": 67,
     "metadata": {},
     "output_type": "execute_result"
    }
   ],
   "source": [
    "full_test.head()"
   ]
  },
  {
   "cell_type": "code",
   "execution_count": 97,
   "metadata": {},
   "outputs": [],
   "source": [
    "# normalise the ratings of the original testing and training data columns on 1-5 scale\n",
    "min_max_scaler = MinMaxScaler()\n",
    "\n",
    "full_test[['criterion1']] = min_max_scaler.fit_transform(full_test[['criterion1']].values.astype(float))*5\n",
    "full_test[['criterion2']] = min_max_scaler.fit_transform(full_test[['criterion2']].values.astype(float))*5\n",
    "full_test[['criterion3']] = min_max_scaler.fit_transform(full_test[['criterion3']].values.astype(float))*5\n",
    "full_test[['criterion4']] = min_max_scaler.fit_transform(full_test[['criterion4']].values.astype(float))*5\n",
    "\n",
    "full_train[['criterion1']] = min_max_scaler.fit_transform(full_train[['criterion1']].values.astype(float))*5\n",
    "full_train[['criterion2']] = min_max_scaler.fit_transform(full_train[['criterion2']].values.astype(float))*5\n",
    "full_train[['criterion3']] = min_max_scaler.fit_transform(full_train[['criterion3']].values.astype(float))*5\n",
    "full_train[['criterion4']] = min_max_scaler.fit_transform(full_train[['criterion4']].values.astype(float))*5"
   ]
  },
  {
   "cell_type": "code",
   "execution_count": 89,
   "metadata": {},
   "outputs": [],
   "source": [
    "y_train = min_max_scaler.fit_transform(pd.DataFrame(y_train).values.astype(float))*5\n",
    "y_test = min_max_scaler.fit_transform(pd.DataFrame(y_test).values.astype(float))*5\n"
   ]
  },
  {
   "cell_type": "code",
   "execution_count": 95,
   "metadata": {},
   "outputs": [
    {
     "name": "stdout",
     "output_type": "stream",
     "text": [
      "(41644, 1) (20512, 1)\n"
     ]
    }
   ],
   "source": [
    "print(pd.DataFrame(y_train).shape, pd.DataFrame(y_test).shape)"
   ]
  },
  {
   "cell_type": "code",
   "execution_count": 99,
   "metadata": {},
   "outputs": [
    {
     "data": {
      "text/html": [
       "<div>\n",
       "<style scoped>\n",
       "    .dataframe tbody tr th:only-of-type {\n",
       "        vertical-align: middle;\n",
       "    }\n",
       "\n",
       "    .dataframe tbody tr th {\n",
       "        vertical-align: top;\n",
       "    }\n",
       "\n",
       "    .dataframe thead th {\n",
       "        text-align: right;\n",
       "    }\n",
       "</style>\n",
       "<table border=\"1\" class=\"dataframe\">\n",
       "  <thead>\n",
       "    <tr style=\"text-align: right;\">\n",
       "      <th></th>\n",
       "      <th>user_id</th>\n",
       "      <th>criterion1</th>\n",
       "      <th>criterion2</th>\n",
       "      <th>criterion3</th>\n",
       "      <th>criterion4</th>\n",
       "      <th>movie_id</th>\n",
       "    </tr>\n",
       "  </thead>\n",
       "  <tbody>\n",
       "    <tr>\n",
       "      <th>45737</th>\n",
       "      <td>4461</td>\n",
       "      <td>4.166667</td>\n",
       "      <td>3.750000</td>\n",
       "      <td>3.750000</td>\n",
       "      <td>4.166667</td>\n",
       "      <td>574</td>\n",
       "    </tr>\n",
       "    <tr>\n",
       "      <th>12903</th>\n",
       "      <td>1263</td>\n",
       "      <td>0.833333</td>\n",
       "      <td>2.500000</td>\n",
       "      <td>1.250000</td>\n",
       "      <td>2.083333</td>\n",
       "      <td>773</td>\n",
       "    </tr>\n",
       "    <tr>\n",
       "      <th>55214</th>\n",
       "      <td>5395</td>\n",
       "      <td>5.000000</td>\n",
       "      <td>4.166667</td>\n",
       "      <td>4.166667</td>\n",
       "      <td>5.000000</td>\n",
       "      <td>1</td>\n",
       "    </tr>\n",
       "    <tr>\n",
       "      <th>41336</th>\n",
       "      <td>4018</td>\n",
       "      <td>1.250000</td>\n",
       "      <td>2.500000</td>\n",
       "      <td>1.666667</td>\n",
       "      <td>3.750000</td>\n",
       "      <td>612</td>\n",
       "    </tr>\n",
       "    <tr>\n",
       "      <th>57367</th>\n",
       "      <td>5593</td>\n",
       "      <td>5.000000</td>\n",
       "      <td>5.000000</td>\n",
       "      <td>5.000000</td>\n",
       "      <td>5.000000</td>\n",
       "      <td>813</td>\n",
       "    </tr>\n",
       "  </tbody>\n",
       "</table>\n",
       "</div>"
      ],
      "text/plain": [
       "       user_id  criterion1  criterion2  criterion3  criterion4  movie_id\n",
       "45737     4461    4.166667    3.750000    3.750000    4.166667       574\n",
       "12903     1263    0.833333    2.500000    1.250000    2.083333       773\n",
       "55214     5395    5.000000    4.166667    4.166667    5.000000         1\n",
       "41336     4018    1.250000    2.500000    1.666667    3.750000       612\n",
       "57367     5593    5.000000    5.000000    5.000000    5.000000       813"
      ]
     },
     "execution_count": 99,
     "metadata": {},
     "output_type": "execute_result"
    }
   ],
   "source": [
    "full_train.head()"
   ]
  },
  {
   "cell_type": "markdown",
   "metadata": {},
   "source": [
    "## Aggregation Function "
   ]
  },
  {
   "cell_type": "code",
   "execution_count": 114,
   "metadata": {},
   "outputs": [
    {
     "name": "stdout",
     "output_type": "stream",
     "text": [
      "(41644, 4)\n"
     ]
    },
    {
     "data": {
      "text/html": [
       "<div>\n",
       "<style scoped>\n",
       "    .dataframe tbody tr th:only-of-type {\n",
       "        vertical-align: middle;\n",
       "    }\n",
       "\n",
       "    .dataframe tbody tr th {\n",
       "        vertical-align: top;\n",
       "    }\n",
       "\n",
       "    .dataframe thead th {\n",
       "        text-align: right;\n",
       "    }\n",
       "</style>\n",
       "<table border=\"1\" class=\"dataframe\">\n",
       "  <thead>\n",
       "    <tr style=\"text-align: right;\">\n",
       "      <th></th>\n",
       "      <th>criterion1</th>\n",
       "      <th>criterion2</th>\n",
       "      <th>criterion3</th>\n",
       "      <th>criterion4</th>\n",
       "    </tr>\n",
       "  </thead>\n",
       "  <tbody>\n",
       "    <tr>\n",
       "      <th>45737</th>\n",
       "      <td>4.166667</td>\n",
       "      <td>3.750000</td>\n",
       "      <td>3.750000</td>\n",
       "      <td>4.166667</td>\n",
       "    </tr>\n",
       "    <tr>\n",
       "      <th>12903</th>\n",
       "      <td>0.833333</td>\n",
       "      <td>2.500000</td>\n",
       "      <td>1.250000</td>\n",
       "      <td>2.083333</td>\n",
       "    </tr>\n",
       "    <tr>\n",
       "      <th>55214</th>\n",
       "      <td>5.000000</td>\n",
       "      <td>4.166667</td>\n",
       "      <td>4.166667</td>\n",
       "      <td>5.000000</td>\n",
       "    </tr>\n",
       "    <tr>\n",
       "      <th>41336</th>\n",
       "      <td>1.250000</td>\n",
       "      <td>2.500000</td>\n",
       "      <td>1.666667</td>\n",
       "      <td>3.750000</td>\n",
       "    </tr>\n",
       "    <tr>\n",
       "      <th>57367</th>\n",
       "      <td>5.000000</td>\n",
       "      <td>5.000000</td>\n",
       "      <td>5.000000</td>\n",
       "      <td>5.000000</td>\n",
       "    </tr>\n",
       "  </tbody>\n",
       "</table>\n",
       "</div>"
      ],
      "text/plain": [
       "       criterion1  criterion2  criterion3  criterion4\n",
       "45737    4.166667    3.750000    3.750000    4.166667\n",
       "12903    0.833333    2.500000    1.250000    2.083333\n",
       "55214    5.000000    4.166667    4.166667    5.000000\n",
       "41336    1.250000    2.500000    1.666667    3.750000\n",
       "57367    5.000000    5.000000    5.000000    5.000000"
      ]
     },
     "execution_count": 114,
     "metadata": {},
     "output_type": "execute_result"
    }
   ],
   "source": [
    "training_data = full_train[['criterion1','criterion2','criterion3','criterion4']]\n",
    "print(training_data.shape)\n",
    "training_data.head()"
   ]
  },
  {
   "cell_type": "code",
   "execution_count": 115,
   "metadata": {},
   "outputs": [
    {
     "name": "stdout",
     "output_type": "stream",
     "text": [
      "(20512, 4)\n"
     ]
    },
    {
     "data": {
      "text/html": [
       "<div>\n",
       "<style scoped>\n",
       "    .dataframe tbody tr th:only-of-type {\n",
       "        vertical-align: middle;\n",
       "    }\n",
       "\n",
       "    .dataframe tbody tr th {\n",
       "        vertical-align: top;\n",
       "    }\n",
       "\n",
       "    .dataframe thead th {\n",
       "        text-align: right;\n",
       "    }\n",
       "</style>\n",
       "<table border=\"1\" class=\"dataframe\">\n",
       "  <thead>\n",
       "    <tr style=\"text-align: right;\">\n",
       "      <th></th>\n",
       "      <th>criterion1</th>\n",
       "      <th>criterion2</th>\n",
       "      <th>criterion3</th>\n",
       "      <th>criterion4</th>\n",
       "    </tr>\n",
       "  </thead>\n",
       "  <tbody>\n",
       "    <tr>\n",
       "      <th>33907</th>\n",
       "      <td>5.000000</td>\n",
       "      <td>4.583333</td>\n",
       "      <td>3.750000</td>\n",
       "      <td>3.333333</td>\n",
       "    </tr>\n",
       "    <tr>\n",
       "      <th>25858</th>\n",
       "      <td>2.083333</td>\n",
       "      <td>2.500000</td>\n",
       "      <td>2.500000</td>\n",
       "      <td>2.500000</td>\n",
       "    </tr>\n",
       "    <tr>\n",
       "      <th>61694</th>\n",
       "      <td>5.000000</td>\n",
       "      <td>5.000000</td>\n",
       "      <td>5.000000</td>\n",
       "      <td>5.000000</td>\n",
       "    </tr>\n",
       "    <tr>\n",
       "      <th>1554</th>\n",
       "      <td>2.500000</td>\n",
       "      <td>1.666667</td>\n",
       "      <td>0.416667</td>\n",
       "      <td>0.416667</td>\n",
       "    </tr>\n",
       "    <tr>\n",
       "      <th>11072</th>\n",
       "      <td>3.333333</td>\n",
       "      <td>3.333333</td>\n",
       "      <td>3.750000</td>\n",
       "      <td>3.333333</td>\n",
       "    </tr>\n",
       "  </tbody>\n",
       "</table>\n",
       "</div>"
      ],
      "text/plain": [
       "       criterion1  criterion2  criterion3  criterion4\n",
       "33907    5.000000    4.583333    3.750000    3.333333\n",
       "25858    2.083333    2.500000    2.500000    2.500000\n",
       "61694    5.000000    5.000000    5.000000    5.000000\n",
       "1554     2.500000    1.666667    0.416667    0.416667\n",
       "11072    3.333333    3.333333    3.750000    3.333333"
      ]
     },
     "execution_count": 115,
     "metadata": {},
     "output_type": "execute_result"
    }
   ],
   "source": [
    "testing_data = full_test[['criterion1','criterion2','criterion3','criterion4']]\n",
    "print(testing_data.shape)\n",
    "testing_data.head()"
   ]
  },
  {
   "cell_type": "code",
   "execution_count": 116,
   "metadata": {},
   "outputs": [
    {
     "name": "stdout",
     "output_type": "stream",
     "text": [
      "(20512, 4)\n"
     ]
    },
    {
     "data": {
      "text/html": [
       "<div>\n",
       "<style scoped>\n",
       "    .dataframe tbody tr th:only-of-type {\n",
       "        vertical-align: middle;\n",
       "    }\n",
       "\n",
       "    .dataframe tbody tr th {\n",
       "        vertical-align: top;\n",
       "    }\n",
       "\n",
       "    .dataframe thead th {\n",
       "        text-align: right;\n",
       "    }\n",
       "</style>\n",
       "<table border=\"1\" class=\"dataframe\">\n",
       "  <thead>\n",
       "    <tr style=\"text-align: right;\">\n",
       "      <th></th>\n",
       "      <th>criterion1</th>\n",
       "      <th>criterion2</th>\n",
       "      <th>criterion3</th>\n",
       "      <th>criterion4</th>\n",
       "    </tr>\n",
       "  </thead>\n",
       "  <tbody>\n",
       "    <tr>\n",
       "      <th>0</th>\n",
       "      <td>4.169332</td>\n",
       "      <td>4.050744</td>\n",
       "      <td>3.828402</td>\n",
       "      <td>3.599499</td>\n",
       "    </tr>\n",
       "    <tr>\n",
       "      <th>1</th>\n",
       "      <td>2.716256</td>\n",
       "      <td>3.596563</td>\n",
       "      <td>2.796181</td>\n",
       "      <td>3.272879</td>\n",
       "    </tr>\n",
       "    <tr>\n",
       "      <th>2</th>\n",
       "      <td>3.602458</td>\n",
       "      <td>3.555491</td>\n",
       "      <td>2.993421</td>\n",
       "      <td>3.266680</td>\n",
       "    </tr>\n",
       "    <tr>\n",
       "      <th>3</th>\n",
       "      <td>3.661907</td>\n",
       "      <td>4.010367</td>\n",
       "      <td>4.188141</td>\n",
       "      <td>4.423180</td>\n",
       "    </tr>\n",
       "    <tr>\n",
       "      <th>4</th>\n",
       "      <td>3.897889</td>\n",
       "      <td>3.537554</td>\n",
       "      <td>3.450182</td>\n",
       "      <td>3.420344</td>\n",
       "    </tr>\n",
       "  </tbody>\n",
       "</table>\n",
       "</div>"
      ],
      "text/plain": [
       "   criterion1  criterion2  criterion3  criterion4\n",
       "0    4.169332    4.050744    3.828402    3.599499\n",
       "1    2.716256    3.596563    2.796181    3.272879\n",
       "2    3.602458    3.555491    2.993421    3.266680\n",
       "3    3.661907    4.010367    4.188141    4.423180\n",
       "4    3.897889    3.537554    3.450182    3.420344"
      ]
     },
     "execution_count": 116,
     "metadata": {},
     "output_type": "execute_result"
    }
   ],
   "source": [
    "predicted_dataset.columns = ['user_id','movie_id','criterion1','criterion2','criterion3','criterion4']\n",
    "predicting_data = predicted_dataset[['criterion1','criterion2','criterion3','criterion4']]\n",
    "print(predicting_data.shape)\n",
    "predicting_data.head()"
   ]
  },
  {
   "cell_type": "code",
   "execution_count": 117,
   "metadata": {},
   "outputs": [],
   "source": [
    "from sklearn.linear_model import Lasso\n",
    "from sklearn.model_selection import GridSearchCV"
   ]
  },
  {
   "cell_type": "code",
   "execution_count": 118,
   "metadata": {},
   "outputs": [],
   "source": [
    "lasso=Lasso()\n",
    "parameters={'alpha':[1e-15,1e-10,1e-8,1e-3,1e-2,1,5,10,20,30,35,40,45,50,55,100]}\n",
    "lasso_regressor=GridSearchCV(lasso,parameters,scoring='neg_mean_squared_error',cv=5)"
   ]
  },
  {
   "cell_type": "code",
   "execution_count": 119,
   "metadata": {},
   "outputs": [
    {
     "name": "stdout",
     "output_type": "stream",
     "text": [
      "{'alpha': 1e-15}\n",
      "-0.2308463361817819\n"
     ]
    }
   ],
   "source": [
    "lasso_regressor.fit(training_data,y_train)\n",
    "print(lasso_regressor.best_params_)\n",
    "print(lasso_regressor.best_score_)"
   ]
  },
  {
   "cell_type": "code",
   "execution_count": 123,
   "metadata": {},
   "outputs": [],
   "source": [
    "prediction_lasso=lasso_regressor.predict(predicting_data)"
   ]
  },
  {
   "cell_type": "code",
   "execution_count": 124,
   "metadata": {},
   "outputs": [
    {
     "name": "stdout",
     "output_type": "stream",
     "text": [
      "2.8061817281830224  is the MSE and  1.6751661792738721  is the RMSE for lasso regression\n"
     ]
    }
   ],
   "source": [
    "MSE_Lasso = np.square(np.subtract(y_test,prediction_lasso)).mean() \n",
    "RMSE_lasso = np.sqrt(np.mean((y_test-prediction_lasso)**2))\n",
    "print(MSE_Lasso, ' is the MSE and ', RMSE_lasso, \" is the RMSE for lasso regression\")"
   ]
  },
  {
   "cell_type": "code",
   "execution_count": 125,
   "metadata": {},
   "outputs": [
    {
     "data": {
      "text/plain": [
       "1.316062725481244"
      ]
     },
     "execution_count": 125,
     "metadata": {},
     "output_type": "execute_result"
    }
   ],
   "source": [
    "from sklearn.metrics import mean_absolute_error\n",
    "mean_absolute_error(y_test, prediction_lasso)"
   ]
  },
  {
   "cell_type": "code",
   "execution_count": null,
   "metadata": {},
   "outputs": [],
   "source": []
  }
 ],
 "metadata": {
  "kernelspec": {
   "display_name": "Python 3",
   "language": "python",
   "name": "python3"
  },
  "language_info": {
   "codemirror_mode": {
    "name": "ipython",
    "version": 3
   },
   "file_extension": ".py",
   "mimetype": "text/x-python",
   "name": "python",
   "nbconvert_exporter": "python",
   "pygments_lexer": "ipython3",
   "version": "3.7.3"
  }
 },
 "nbformat": 4,
 "nbformat_minor": 2
}
